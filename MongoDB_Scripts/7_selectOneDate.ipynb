{
 "cells": [
  {
   "cell_type": "code",
   "execution_count": 2,
   "metadata": {
    "collapsed": true
   },
   "outputs": [
    {
     "ename": "SyntaxError",
     "evalue": "invalid syntax (<ipython-input-2-1c7bc3d9f154>, line 7)",
     "output_type": "error",
     "traceback": [
      "\u001B[0;36m  File \u001B[0;32m\"<ipython-input-2-1c7bc3d9f154>\"\u001B[0;36m, line \u001B[0;32m7\u001B[0m\n\u001B[0;31m    { $match : { \"timestamp\" : {$gte:new ISODate('2020-04-04T00:00:00.000Z'), $lt:new ISODate('2020-04-05T00:00:00.000Z')}}},\u001B[0m\n\u001B[0m      ^\u001B[0m\n\u001B[0;31mSyntaxError\u001B[0m\u001B[0;31m:\u001B[0m invalid syntax\n"
     ]
    }
   ],
   "source": [
    "# select for one date\n",
    "# define collection\n",
    "collection = TransToDoc_muenchen\n",
    "\n",
    "db.collection.aggregate(\n",
    "[\n",
    "{ $match : { \"timestamp\" : {$gte:new ISODate('2020-04-04T00:00:00.000Z'), $lt:new ISODate('2020-04-05T00:00:00.000Z')}}},\n",
    "{ $out : 'trans_muenchen_20200404' }\n",
    "]\n",
    ")"
   ]
  },
  {
   "cell_type": "code",
   "execution_count": 1,
   "outputs": [
    {
     "ename": "SyntaxError",
     "evalue": "invalid syntax (<ipython-input-1-3c8527c4f355>, line 3)",
     "output_type": "error",
     "traceback": [
      "\u001B[0;36m  File \u001B[0;32m\"<ipython-input-1-3c8527c4f355>\"\u001B[0;36m, line \u001B[0;32m3\u001B[0m\n\u001B[0;31m    { $match : { \"timestamp\" : {$gte:new ISODate('2020-04-20T00:00:00.000Z'), $lt:new ISODate('2020-04-27T00:00:00.000Z')}}},\u001B[0m\n\u001B[0m      ^\u001B[0m\n\u001B[0;31mSyntaxError\u001B[0m\u001B[0;31m:\u001B[0m invalid syntax\n"
     ]
    }
   ],
   "source": [
    "# select for one week\n",
    "db.transformedToDocuments_muenchen.aggregate(\n",
    "[\n",
    "{ $match : { \"timestamp\" : {$gte:new ISODate('2020-04-20T00:00:00.000Z'), $lt:new ISODate('2020-04-27T00:00:00.000Z')}}},\n",
    "{ $out : 'muenchen_20200420-20200427' }\n",
    "]\n",
    ")"
   ],
   "metadata": {
    "collapsed": false,
    "pycharm": {
     "name": "#%%\n"
    }
   }
  },
  {
   "cell_type": "code",
   "execution_count": null,
   "outputs": [],
   "source": [],
   "metadata": {
    "collapsed": false,
    "pycharm": {
     "name": "#%%\n"
    }
   }
  }
 ],
 "metadata": {
  "kernelspec": {
   "display_name": "Python 3",
   "language": "python",
   "name": "python3"
  },
  "language_info": {
   "codemirror_mode": {
    "name": "ipython",
    "version": 2
   },
   "file_extension": ".py",
   "mimetype": "text/x-python",
   "name": "python",
   "nbconvert_exporter": "python",
   "pygments_lexer": "ipython2",
   "version": "2.7.6"
  }
 },
 "nbformat": 4,
 "nbformat_minor": 0
}